{
  "nbformat": 4,
  "nbformat_minor": 0,
  "metadata": {
    "colab": {
      "provenance": []
    },
    "kernelspec": {
      "name": "python3",
      "display_name": "Python 3"
    },
    "language_info": {
      "name": "python"
    }
  },
  "cells": [
    {
      "cell_type": "markdown",
      "source": [
        "# Numpy : Numpy adalah library untuk numerical computing"
      ],
      "metadata": {
        "id": "6miTo2-S7ufb"
      }
    },
    {
      "cell_type": "code",
      "source": [
        "import numpy as np"
      ],
      "metadata": {
        "id": "_sW77O6a8doV"
      },
      "execution_count": null,
      "outputs": []
    },
    {
      "cell_type": "markdown",
      "source": [
        "Array dengan rank 1 dan panjang 3"
      ],
      "metadata": {
        "id": "xKED3ue-9N09"
      }
    },
    {
      "cell_type": "code",
      "source": [
        "[1,2,3]"
      ],
      "metadata": {
        "colab": {
          "base_uri": "https://localhost:8080/"
        },
        "id": "W6YWZTbJ9SCW",
        "outputId": "caf28141-2745-4ecc-80a4-f2dae689f5ac"
      },
      "execution_count": null,
      "outputs": [
        {
          "output_type": "execute_result",
          "data": {
            "text/plain": [
              "[1, 2, 3]"
            ]
          },
          "metadata": {},
          "execution_count": 1
        }
      ]
    },
    {
      "cell_type": "markdown",
      "source": [
        "Array dengan rank 2 panjang 3"
      ],
      "metadata": {
        "id": "yzL7htch9a-3"
      }
    },
    {
      "cell_type": "code",
      "source": [
        "[[1,2,3], [4,5,6]]"
      ],
      "metadata": {
        "colab": {
          "base_uri": "https://localhost:8080/"
        },
        "id": "AhEGGq7D-CIk",
        "outputId": "8994ca41-0296-447a-d549-d2449716df2f"
      },
      "execution_count": null,
      "outputs": [
        {
          "output_type": "execute_result",
          "data": {
            "text/plain": [
              "[[1, 2, 3], [4, 5, 6]]"
            ]
          },
          "metadata": {},
          "execution_count": 2
        }
      ]
    },
    {
      "cell_type": "markdown",
      "source": [
        "**ndarray** adalah nama class untuk sebuah numpy Array"
      ],
      "metadata": {
        "id": "zD0HlHWhAJ1l"
      }
    },
    {
      "cell_type": "code",
      "source": [
        "a = np.array ([1, 2, 3])\n",
        "b = np.array ([(1, 2, 3), (4, 5, 6)])\n",
        "\n",
        "print(a)\n",
        "print(b)"
      ],
      "metadata": {
        "colab": {
          "base_uri": "https://localhost:8080/"
        },
        "id": "w5KRQiY3-K4Y",
        "outputId": "23e55efd-b872-40b5-ac0a-9fb4abdef4b1"
      },
      "execution_count": null,
      "outputs": [
        {
          "output_type": "stream",
          "name": "stdout",
          "text": [
            "[1 2 3]\n",
            "[[1 2 3]\n",
            " [4 5 6]]\n"
          ]
        }
      ]
    },
    {
      "cell_type": "markdown",
      "source": [
        "# Properti ndaarray\n",
        "\n",
        "* ndarray.ndim = Untuk mengetahui jumlah dimensi (Rank) dari sebuah numpy array.\n",
        "* ndarray.shape = Untuk mengetahui jumlah baris dan kolom pada sebuah numpy array.\n",
        "* ndarray.size = Untuk mengetahui jumlah elemen dalam sebuah numpy array.\n",
        "* ndarray.dtype = untuk mengetahui data type dari elemen yang ada di numpy array.\n",
        "* ndarray.itemsize = untuk mengetahui ukuran elemen (bytes) yang ada di numpy array.\n",
        "ndarray.data = buffer untuk meyimpan elemen - elemen didalam numpy array."
      ],
      "metadata": {
        "id": "ADh-UyMWiI5U"
      }
    },
    {
      "cell_type": "code",
      "source": [
        "a = np.array ([1, 2, 3])\n",
        "b = np.array ([(1, 2, 3), (4, 5, 6)])\n",
        "\n",
        "print(a)\n",
        "print(b)"
      ],
      "metadata": {
        "colab": {
          "base_uri": "https://localhost:8080/"
        },
        "id": "MYLN2Knej_ci",
        "outputId": "58682c35-c212-48c4-ede4-ddb603d3b973"
      },
      "execution_count": null,
      "outputs": [
        {
          "output_type": "stream",
          "name": "stdout",
          "text": [
            "[1 2 3]\n",
            "[[1 2 3]\n",
            " [4 5 6]]\n"
          ]
        }
      ]
    },
    {
      "cell_type": "code",
      "source": [
        "print(a.ndim)\n",
        "print(a.shape)\n",
        "print(a.size)\n",
        "print(a.dtype)\n",
        "print(a.itemsize)"
      ],
      "metadata": {
        "colab": {
          "base_uri": "https://localhost:8080/"
        },
        "id": "ztARUP5KkwuO",
        "outputId": "87b10d44-c2ed-4c38-fb07-996c4b0b4a21"
      },
      "execution_count": null,
      "outputs": [
        {
          "output_type": "stream",
          "name": "stdout",
          "text": [
            "1\n",
            "(3,)\n",
            "3\n",
            "int64\n",
            "8\n"
          ]
        }
      ]
    },
    {
      "cell_type": "code",
      "source": [
        "print(b.ndim)\n",
        "print(b.shape)\n",
        "print(b.size)\n",
        "print(b.dtype)\n",
        "print(b.itemsize)"
      ],
      "metadata": {
        "colab": {
          "base_uri": "https://localhost:8080/"
        },
        "id": "KV9WAGGYlGRy",
        "outputId": "0220c780-11f5-401d-b8de-39eb0a014cb4"
      },
      "execution_count": null,
      "outputs": [
        {
          "output_type": "stream",
          "name": "stdout",
          "text": [
            "2\n",
            "(2, 3)\n",
            "6\n",
            "int64\n",
            "8\n"
          ]
        }
      ]
    },
    {
      "cell_type": "markdown",
      "source": [
        "# Create Numpy Array"
      ],
      "metadata": {
        "id": "6tk7Z6CNQBWq"
      }
    },
    {
      "cell_type": "markdown",
      "source": [
        "*  np.zeros : Semua array isinya 0 (Nol)\n",
        "*  np.ones : Semua array isinya 1 (satu)\n",
        "*  np.arange : memberikan scope dan panjang step\n",
        "* np.linspace : memberikan scope dan jumlah elemen yang diinginkan\n",
        "* np.random.random : memberikan angka acak"
      ],
      "metadata": {
        "id": "mCnJkauPQOkj"
      }
    },
    {
      "cell_type": "code",
      "source": [
        "np.zeros ((3, 3)) # membuat sebuah array zero dengan dimensi 3 dan elemen setiap dimensinya 3"
      ],
      "metadata": {
        "colab": {
          "base_uri": "https://localhost:8080/"
        },
        "id": "T7NPNo3ZSHd7",
        "outputId": "606b2f60-8a25-4b07-936a-b0ad8d09d4fb"
      },
      "execution_count": null,
      "outputs": [
        {
          "output_type": "execute_result",
          "data": {
            "text/plain": [
              "array([[0., 0., 0.],\n",
              "       [0., 0., 0.],\n",
              "       [0., 0., 0.]])"
            ]
          },
          "metadata": {},
          "execution_count": 4
        }
      ]
    },
    {
      "cell_type": "code",
      "source": [
        "np.ones((3, 3))"
      ],
      "metadata": {
        "colab": {
          "base_uri": "https://localhost:8080/"
        },
        "id": "SX8xw7ILfYyI",
        "outputId": "05bf5353-de28-403b-860f-7b63de0a870e"
      },
      "execution_count": null,
      "outputs": [
        {
          "output_type": "execute_result",
          "data": {
            "text/plain": [
              "array([[1., 1., 1.],\n",
              "       [1., 1., 1.],\n",
              "       [1., 1., 1.]])"
            ]
          },
          "metadata": {},
          "execution_count": 3
        }
      ]
    },
    {
      "cell_type": "code",
      "source": [
        "np.arange(1,2, 0.2) # Membuat sebuah array dengan range angka dari 1 - 2 (maksimal angka 2 ) dengan panjang atau jarak setiap elemen 0.3 point"
      ],
      "metadata": {
        "colab": {
          "base_uri": "https://localhost:8080/"
        },
        "id": "ooEOQNW1fenV",
        "outputId": "2752c95e-aa76-4c71-c768-47f176669a43"
      },
      "execution_count": null,
      "outputs": [
        {
          "output_type": "execute_result",
          "data": {
            "text/plain": [
              "array([1. , 1.2, 1.4, 1.6, 1.8])"
            ]
          },
          "metadata": {},
          "execution_count": 10
        }
      ]
    },
    {
      "cell_type": "code",
      "source": [
        "np.linspace(1, 3, 6) # Membuat sebuah array dengan range angka 1- 3 dengan 6 elemen didalamnya"
      ],
      "metadata": {
        "colab": {
          "base_uri": "https://localhost:8080/"
        },
        "id": "b4spihVvgUbz",
        "outputId": "1b5a3cbf-afe7-432e-e745-2321168da25b"
      },
      "execution_count": null,
      "outputs": [
        {
          "output_type": "execute_result",
          "data": {
            "text/plain": [
              "array([1. , 1.4, 1.8, 2.2, 2.6, 3. ])"
            ]
          },
          "metadata": {},
          "execution_count": 11
        }
      ]
    },
    {
      "cell_type": "code",
      "source": [
        "np.random.random ((2, 3))"
      ],
      "metadata": {
        "colab": {
          "base_uri": "https://localhost:8080/"
        },
        "id": "TGJXu7nhhUTw",
        "outputId": "be685803-2b38-4c47-8fac-87affa2b24d5"
      },
      "execution_count": null,
      "outputs": [
        {
          "output_type": "execute_result",
          "data": {
            "text/plain": [
              "array([[0.49958102, 0.07991998, 0.47419344],\n",
              "       [0.77192433, 0.57348384, 0.04015259]])"
            ]
          },
          "metadata": {},
          "execution_count": 13
        }
      ]
    },
    {
      "cell_type": "markdown",
      "source": [
        "# Shape and Operation"
      ],
      "metadata": {
        "id": "N5btOVz2jfeh"
      }
    },
    {
      "cell_type": "markdown",
      "source": [
        "*  reshape : mengubah dimensi / shape dari sebuah numpy array\n",
        "*  vstack : Stack numppy array secara vertical\n",
        "*  hstack : stack numpy array scara horizontal\n",
        "*  vsplit : split numpy array secara vertical\n",
        "*  hsplit : split numpy array secara horizontal"
      ],
      "metadata": {
        "id": "lCHoCGR2jiSu"
      }
    },
    {
      "cell_type": "code",
      "source": [
        "a = np.array ([(1, 2, 3), (4, 5, 6)])\n",
        "a"
      ],
      "metadata": {
        "colab": {
          "base_uri": "https://localhost:8080/"
        },
        "id": "POyKG4JsAy7R",
        "outputId": "625cb32c-f707-4f67-df85-adbe6252fc02"
      },
      "execution_count": null,
      "outputs": [
        {
          "output_type": "execute_result",
          "data": {
            "text/plain": [
              "array([[1, 2, 3],\n",
              "       [4, 5, 6]])"
            ]
          },
          "metadata": {},
          "execution_count": 9
        }
      ]
    },
    {
      "cell_type": "code",
      "source": [
        "# Reshape sebuah array\n",
        "\n",
        "a = a.reshape (3, -1) # Artinya adalah merubah dimensi array a yang semula 2 baris 3 kolom, menjadi 3 baris dan otomatis kolom diatur sistem (-1) angka -1 juga bisa kita atur sendiri jumlah kolomnya\n",
        "a"
      ],
      "metadata": {
        "colab": {
          "base_uri": "https://localhost:8080/"
        },
        "id": "cdOf8PSoBN-5",
        "outputId": "0ee8f235-7789-45e7-b63b-bbda1d553798"
      },
      "execution_count": null,
      "outputs": [
        {
          "output_type": "execute_result",
          "data": {
            "text/plain": [
              "array([[1, 2],\n",
              "       [3, 4],\n",
              "       [5, 6]])"
            ]
          },
          "metadata": {},
          "execution_count": 12
        }
      ]
    },
    {
      "cell_type": "code",
      "source": [
        "# vstack sebuah array\n",
        "\n",
        "b = np.array ([(7, 8), (9, 10)])\n",
        "b"
      ],
      "metadata": {
        "colab": {
          "base_uri": "https://localhost:8080/"
        },
        "id": "N71OiU8xC5AQ",
        "outputId": "2d61f452-d7f0-4723-8f2a-48cdb0a352ea"
      },
      "execution_count": null,
      "outputs": [
        {
          "output_type": "execute_result",
          "data": {
            "text/plain": [
              "array([[ 7,  8],\n",
              "       [ 9, 10]])"
            ]
          },
          "metadata": {},
          "execution_count": 10
        }
      ]
    },
    {
      "cell_type": "code",
      "source": [
        "# Menggabungkan Array a dan b secara vertical\n",
        "# Harus mempunyai kolom yang sama\n",
        "a = np.array ([(1, 2), (3, 4), (5, 6)])\n",
        "b = np.array ([(7, 8), (9, 10)])\n",
        "\n",
        "print (a)\n",
        "print (b)\n",
        "\n",
        "np.vstack ((a, b))\n",
        "\n"
      ],
      "metadata": {
        "colab": {
          "base_uri": "https://localhost:8080/"
        },
        "id": "mhzbHt4YDGRT",
        "outputId": "80dcc813-35af-4302-9703-0b6fe517af29"
      },
      "execution_count": null,
      "outputs": [
        {
          "output_type": "stream",
          "name": "stdout",
          "text": [
            "[[1 2]\n",
            " [3 4]\n",
            " [5 6]]\n",
            "[[ 7  8]\n",
            " [ 9 10]]\n"
          ]
        },
        {
          "output_type": "execute_result",
          "data": {
            "text/plain": [
              "array([[ 1,  2],\n",
              "       [ 3,  4],\n",
              "       [ 5,  6],\n",
              "       [ 7,  8],\n",
              "       [ 9, 10]])"
            ]
          },
          "metadata": {},
          "execution_count": 17
        }
      ]
    },
    {
      "cell_type": "code",
      "source": [
        "# Menggabungkan array secara horizontal\n",
        "# Harus mempunyai baris/ dimensi yang sama\n",
        "\n",
        "a = np.array ([(1, 2, 3), (4, 5, 6)])\n",
        "b = np.array ([(11, 12, 13), (14, 15, 16)])\n",
        "print(a)\n",
        "print(b)\n",
        "\n",
        "np.hstack((a, b))"
      ],
      "metadata": {
        "colab": {
          "base_uri": "https://localhost:8080/"
        },
        "id": "0vE1up7zE421",
        "outputId": "60c3d166-7a69-410e-eef2-e8e917d6e301"
      },
      "execution_count": null,
      "outputs": [
        {
          "output_type": "stream",
          "name": "stdout",
          "text": [
            "[[1 2 3]\n",
            " [4 5 6]]\n",
            "[[11 12 13]\n",
            " [14 15 16]]\n"
          ]
        },
        {
          "output_type": "execute_result",
          "data": {
            "text/plain": [
              "array([[ 1,  2,  3, 11, 12, 13],\n",
              "       [ 4,  5,  6, 14, 15, 16]])"
            ]
          },
          "metadata": {},
          "execution_count": 22
        }
      ]
    },
    {
      "cell_type": "code",
      "source": [
        "# Vertikal Split sebuah array\n",
        "# adalah membagi array yang diiris lewat baris\n",
        "\n",
        "a = np.array([(1, 2, 3, 11, 12, 13), (4, 5, 6, 14, 15, 16)]) # Array 2 baris\n",
        "print(a)\n",
        "\n",
        "np.split(a, 2) # Array di split menjadi 2, kalau di split jadi 3 akan error, karena jumlah baris atau dimensinya cuma 2"
      ],
      "metadata": {
        "colab": {
          "base_uri": "https://localhost:8080/"
        },
        "id": "x0vkEY6PGSYW",
        "outputId": "300bf981-822d-4ddb-f63e-99669f27e803"
      },
      "execution_count": null,
      "outputs": [
        {
          "output_type": "stream",
          "name": "stdout",
          "text": [
            "[[ 1  2  3 11 12 13]\n",
            " [ 4  5  6 14 15 16]]\n"
          ]
        },
        {
          "output_type": "execute_result",
          "data": {
            "text/plain": [
              "[array([[ 1,  2,  3, 11, 12, 13]]), array([[ 4,  5,  6, 14, 15, 16]])]"
            ]
          },
          "metadata": {},
          "execution_count": 24
        }
      ]
    },
    {
      "cell_type": "code",
      "source": [
        "# Horizontal Split sebuah array\n",
        "# adalah membagi array yng diiris lewat kolom\n",
        "\n",
        "a = np.array([(1, 2, 3, 11, 12, 13), (4, 5, 6, 14, 15, 16)])\n",
        "print(a)\n",
        "\n",
        "np.hsplit(a, 3) # Array di split menjadi 3, kalau di split jadi 5 akan error, karena jumlah kolom atau elemmnya cuma 6\n",
        "\n",
        "print(' ')\n",
        "\n",
        "np.hsplit(a, (1, 3)) # Split setelah kolom 1 dan 3"
      ],
      "metadata": {
        "colab": {
          "base_uri": "https://localhost:8080/"
        },
        "id": "-t4kW8aHHgo7",
        "outputId": "178e0d43-c182-4e84-da13-51e500feb760"
      },
      "execution_count": null,
      "outputs": [
        {
          "output_type": "stream",
          "name": "stdout",
          "text": [
            "[[ 1  2  3 11 12 13]\n",
            " [ 4  5  6 14 15 16]]\n",
            " \n"
          ]
        },
        {
          "output_type": "execute_result",
          "data": {
            "text/plain": [
              "[array([[1],\n",
              "        [4]]),\n",
              " array([[2, 3],\n",
              "        [5, 6]]),\n",
              " array([[11, 12, 13],\n",
              "        [14, 15, 16]])]"
            ]
          },
          "metadata": {},
          "execution_count": 34
        }
      ]
    },
    {
      "cell_type": "markdown",
      "source": [
        "# INDEXING"
      ],
      "metadata": {
        "id": "uGD5aZsOK090"
      }
    },
    {
      "cell_type": "code",
      "source": [
        "data = np.arange(100, 200) # Membuat sebuah data dengan array 1 dimensi yang isi nya 100 - 200 (200 tidak termasuk)\n",
        "print(data)\n",
        "print ('')\n",
        "\n",
        "index_lima = np.arange(0, 100, 5) # membuat sebuah index dengan menggunkana array yang nantinya muncul kelipatan 5 dimulai dari 0\n",
        "\n",
        "print(index_lima)\n",
        "print ('')\n",
        "\n",
        "print(data[index_lima]) # memunculkan semua data array dengan index kelipatan lima"
      ],
      "metadata": {
        "colab": {
          "base_uri": "https://localhost:8080/"
        },
        "id": "gnRg9BlqK3YV",
        "outputId": "770b39f3-ae3d-42aa-b7ba-ef219060d352"
      },
      "execution_count": null,
      "outputs": [
        {
          "output_type": "stream",
          "name": "stdout",
          "text": [
            "[100 101 102 103 104 105 106 107 108 109 110 111 112 113 114 115 116 117\n",
            " 118 119 120 121 122 123 124 125 126 127 128 129 130 131 132 133 134 135\n",
            " 136 137 138 139 140 141 142 143 144 145 146 147 148 149 150 151 152 153\n",
            " 154 155 156 157 158 159 160 161 162 163 164 165 166 167 168 169 170 171\n",
            " 172 173 174 175 176 177 178 179 180 181 182 183 184 185 186 187 188 189\n",
            " 190 191 192 193 194 195 196 197 198 199]\n",
            "\n",
            "[ 0  5 10 15 20 25 30 35 40 45 50 55 60 65 70 75 80 85 90 95]\n",
            "\n",
            "[100 105 110 115 120 125 130 135 140 145 150 155 160 165 170 175 180 185\n",
            " 190 195]\n"
          ]
        }
      ]
    },
    {
      "cell_type": "code",
      "source": [
        "data2D = data.reshape (10, -1)\n",
        "\n",
        "print(data2D) # Memunculkan semua elemen array\n",
        "print('')\n",
        "\n",
        "print(data2D[2]) # ini akan memunculkan baris ke 2 dari emelen array\n",
        "print('')\n",
        "\n",
        "print(data2D[2, 1]) # ini akan memunculkan array yang ada pada baris 2 kolom 1\n",
        "print('')\n",
        "\n",
        "print(data2D[-1, -1]) # ini akan memunculkan array yang ada pada baris terakhir dan kolom terakhir\n",
        "print('')\n",
        "\n",
        "print(data2D[:, 3]) # Artinya adalah mengakses semua data pada kolom 3\n",
        "print('')\n",
        "\n",
        "print(data2D[1:4, 3:5]) # artinya adalah memunculkan data dari baris 1 - 3 (4 tidak termasuk) dan kolom 3-4 (5 tidak termasuk)\n"
      ],
      "metadata": {
        "colab": {
          "base_uri": "https://localhost:8080/"
        },
        "id": "A3lN4IidSn-e",
        "outputId": "325266cb-a514-4ccf-8b71-1172ad26e754"
      },
      "execution_count": null,
      "outputs": [
        {
          "output_type": "stream",
          "name": "stdout",
          "text": [
            "[[100 101 102 103 104 105 106 107 108 109]\n",
            " [110 111 112 113 114 115 116 117 118 119]\n",
            " [120 121 122 123 124 125 126 127 128 129]\n",
            " [130 131 132 133 134 135 136 137 138 139]\n",
            " [140 141 142 143 144 145 146 147 148 149]\n",
            " [150 151 152 153 154 155 156 157 158 159]\n",
            " [160 161 162 163 164 165 166 167 168 169]\n",
            " [170 171 172 173 174 175 176 177 178 179]\n",
            " [180 181 182 183 184 185 186 187 188 189]\n",
            " [190 191 192 193 194 195 196 197 198 199]]\n",
            "\n",
            "[120 121 122 123 124 125 126 127 128 129]\n",
            "\n",
            "121\n",
            "\n",
            "199\n",
            "\n",
            "[103 113 123 133 143 153 163 173 183 193]\n",
            "\n",
            "[[113 114]\n",
            " [123 124]\n",
            " [133 134]]\n"
          ]
        }
      ]
    }
  ]
}